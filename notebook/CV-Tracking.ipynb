{
 "cells": [
  {
   "cell_type": "code",
   "execution_count": null,
   "id": "cd1309c2",
   "metadata": {},
   "outputs": [],
   "source": [
    "from pycocotools.coco import COCO\n",
    "import os\n",
    "import shutil\n",
    "import yaml\n",
    "\n",
    "base_dir = r\"D:\\test\"\n",
    "annotations_dir = os.path.join(base_dir, \"annotations\")\n",
    "output_dit = os.path.join(base_dir, \"vehicles_dataset\")\n",
    "\n",
    "COCO_PATHS = {\n",
    "    \"train\": {\n",
    "        \"images\": os.path.join(base_dir, \"train2017\"),\n",
    "        \"ann_file\": os.path.join(annotations_dir, \"instances_train2017.json\")\n",
    "    },\n",
    "    \"val\": {\n",
    "        \"images\": os.path.join(base_dir, \"val2017\"),\n",
    "        \"ann_file\": os.path.join(annotations_dir, \"instances_val2017.json\")\n",
    "    }\n",
    "}\n",
    "\n",
    "CATEGORIES = ['bus',\"car\", \"motorcycle\",'truck']\n",
    "\n",
    "def extract_vehicles(coco_mode):\n",
    "    print(f\"\\nОбработка {coco_mode} данных...\")\n",
    "    coco = COCO(COCO_PATHS[coco_mode][\"ann_file\"])\n",
    "    \n",
    "    cat_ids = coco.getCatIds(catNms=CATEGORIES)\n",
    "    print(f\"Категории: {CATEGORIES} -> ID: {cat_ids}\")\n",
    "    \n",
    "    img_ids = set()\n",
    "    for cat_id in cat_ids:\n",
    "        img_ids.update(coco.getImgIds(catIds=cat_id))\n",
    "    \n",
    "    print(f\"Найдено изображений: {len(img_ids)}\")\n",
    "    \n",
    "    images_dir = os.path.join(output_dit, coco_mode, \"images\")\n",
    "    labels_dir = os.path.join(output_dit, coco_mode, \"labels\")\n",
    "    os.makedirs(images_dir, exist_ok=True)\n",
    "    os.makedirs(labels_dir, exist_ok=True)\n",
    "    \n",
    "    for img_id in img_ids:\n",
    "        img_info = coco.loadImgs(img_id)[0]\n",
    "        src_img = os.path.join(COCO_PATHS[coco_mode][\"images\"], img_info[\"file_name\"])\n",
    "        dst_img = os.path.join(images_dir, img_info[\"file_name\"])\n",
    "        \n",
    "        if os.path.exists(src_img):\n",
    "            shutil.copy(src_img, dst_img)\n",
    "            \n",
    "            ann_ids = coco.getAnnIds(imgIds=img_id, catIds=cat_ids)\n",
    "            anns = coco.loadAnns(ann_ids)\n",
    "            \n",
    "            txt_file = os.path.splitext(img_info[\"file_name\"])[0] + \".txt\"\n",
    "            dst_txt = os.path.join(labels_dir, txt_file)\n",
    "            \n",
    "            with open(dst_txt, \"w\") as f:\n",
    "                for ann in anns:\n",
    "                    x, y, w, h = ann[\"bbox\"]\n",
    "                    img_w, img_h = img_info[\"width\"], img_info[\"height\"]\n",
    "                    \n",
    "                    x_center = (x + w / 2) / img_w\n",
    "                    y_center = (y + h / 2) / img_h\n",
    "                    w_norm = w / img_w\n",
    "                    h_norm = h / img_h\n",
    "\n",
    "                    f.write(f\"0 {x_center} {y_center} {w_norm} {h_norm}\\n\")\n",
    "\n",
    "    return images_dir\n",
    "\n",
    "def create_yaml_config(train_path, val_path):\n",
    "    \"\"\"Создает data.yaml для YOLO\"\"\"\n",
    "    yaml_path = os.path.join(output_dit, \"data.yaml\")\n",
    "    \n",
    "    config = {\n",
    "        \"path\": output_dit,\n",
    "        \"train\": os.path.relpath(train_path, output_dit),\n",
    "        \"val\": os.path.relpath(val_path, output_dit),\n",
    "        \"names\": {0: \"vehicle\"},\n",
    "        \"nc\": 1\n",
    "    }\n",
    "    \n",
    "    with open(yaml_path, 'w') as f:\n",
    "        yaml.dump(config, f, sort_keys=False)\n",
    "    \n",
    "    print(f\"\\nСоздан YOLO конфиг: {yaml_path}\")\n",
    "    return yaml_path\n",
    "\n",
    "def main():\n",
    "    os.makedirs(output_dit, exist_ok=True)\n",
    "    \n",
    "    train_path = extract_vehicles(\"train\")\n",
    "    val_path = extract_vehicles(\"val\")\n",
    "    yaml_path = create_yaml_config(train_path, val_path)\n",
    "\n",
    "    train_labels = os.path.join(output_dit, \"train\", \"labels\")\n",
    "    val_labels = os.path.join(output_dit, \"val\", \"labels\")\n",
    "    \n",
    "    print(f\"  - Train: {len(os.listdir(train_path))} изображений, {len(os.listdir(train_labels))} аннотаций\")\n",
    "    print(f\"  - Val: {len(os.listdir(val_path))} изображений, {len(os.listdir(val_labels))} аннотаций\")\n",
    "    print(f\"  - YAML: {yaml_path}\")\n",
    "\n",
    "if __name__ == \"__main__\":\n",
    "    main()"
   ]
  },
  {
   "cell_type": "code",
   "execution_count": null,
   "id": "cde4779c",
   "metadata": {},
   "outputs": [
    {
     "name": "stdout",
     "output_type": "stream",
     "text": [
      "New https://pypi.org/project/ultralytics/8.3.161 available  Update with 'pip install -U ultralytics'\n",
      "Ultralytics 8.3.152  Python-3.10.0 torch-2.7.1+cu118 CUDA:0 (NVIDIA GeForce RTX 5070 Ti, 16303MiB)\n",
      "\u001b[34m\u001b[1mengine\\trainer: \u001b[0magnostic_nms=False, amp=True, augment=False, auto_augment=randaugment, batch=16, bgr=0.0, box=7.5, cache=False, cfg=None, classes=None, close_mosaic=10, cls=0.5, conf=None, copy_paste=0.0, copy_paste_mode=flip, cos_lr=False, cutmix=0.0, data=D:\\test\\vehicles_dataset\\data.yaml, degrees=0.0, deterministic=True, device=0, dfl=1.5, dnn=False, dropout=0.0, dynamic=False, embed=None, epochs=30, erasing=0.4, exist_ok=True, fliplr=0.5, flipud=0.0, format=torchscript, fraction=1.0, freeze=None, half=False, hsv_h=0.015, hsv_s=0.7, hsv_v=0.4, imgsz=540, int8=False, iou=0.7, keras=False, kobj=1.0, line_width=None, lr0=0.01, lrf=0.01, mask_ratio=4, max_det=300, mixup=0.0, mode=train, model=yolov8l.pt, momentum=0.937, mosaic=1.0, multi_scale=False, name=vehicles_detection, nbs=64, nms=False, opset=None, optimize=False, optimizer=auto, overlap_mask=True, patience=100, perspective=0.0, plots=True, pose=12.0, pretrained=True, profile=False, project=None, rect=False, resume=False, retina_masks=False, save=True, save_conf=False, save_crop=False, save_dir=runs\\detect\\vehicles_detection, save_frames=False, save_json=False, save_period=-1, save_txt=False, scale=0.5, seed=0, shear=0.0, show=False, show_boxes=True, show_conf=True, show_labels=True, simplify=True, single_cls=False, source=None, split=val, stream_buffer=False, task=detect, time=None, tracker=botsort.yaml, translate=0.1, val=True, verbose=True, vid_stride=1, visualize=False, warmup_bias_lr=0.1, warmup_epochs=3.0, warmup_momentum=0.8, weight_decay=0.0005, workers=8, workspace=None\n",
      "Overriding model.yaml nc=80 with nc=1\n",
      "\n",
      "                   from  n    params  module                                       arguments                     \n",
      "  0                  -1  1      1856  ultralytics.nn.modules.conv.Conv             [3, 64, 3, 2]                 \n",
      "  1                  -1  1     73984  ultralytics.nn.modules.conv.Conv             [64, 128, 3, 2]               \n",
      "  2                  -1  3    279808  ultralytics.nn.modules.block.C2f             [128, 128, 3, True]           \n",
      "  3                  -1  1    295424  ultralytics.nn.modules.conv.Conv             [128, 256, 3, 2]              \n",
      "  4                  -1  6   2101248  ultralytics.nn.modules.block.C2f             [256, 256, 6, True]           \n",
      "  5                  -1  1   1180672  ultralytics.nn.modules.conv.Conv             [256, 512, 3, 2]              \n",
      "  6                  -1  6   8396800  ultralytics.nn.modules.block.C2f             [512, 512, 6, True]           \n",
      "  7                  -1  1   2360320  ultralytics.nn.modules.conv.Conv             [512, 512, 3, 2]              \n",
      "  8                  -1  3   4461568  ultralytics.nn.modules.block.C2f             [512, 512, 3, True]           \n"
     ]
    },
    {
     "name": "stderr",
     "output_type": "stream",
     "text": [
      "c:\\Users\\galiy\\AppData\\Local\\Programs\\Python\\Python310\\lib\\site-packages\\torch\\cuda\\__init__.py:287: UserWarning: \n",
      "NVIDIA GeForce RTX 5070 Ti with CUDA capability sm_120 is not compatible with the current PyTorch installation.\n",
      "The current PyTorch install supports CUDA capabilities sm_37 sm_50 sm_60 sm_61 sm_70 sm_75 sm_80 sm_86 sm_90 compute_37.\n",
      "If you want to use the NVIDIA GeForce RTX 5070 Ti GPU with PyTorch, please check the instructions at https://pytorch.org/get-started/locally/\n",
      "\n",
      "  warnings.warn(\n"
     ]
    },
    {
     "name": "stdout",
     "output_type": "stream",
     "text": [
      "  9                  -1  1    656896  ultralytics.nn.modules.block.SPPF            [512, 512, 5]                 \n",
      " 10                  -1  1         0  torch.nn.modules.upsampling.Upsample         [None, 2, 'nearest']          \n",
      " 11             [-1, 6]  1         0  ultralytics.nn.modules.conv.Concat           [1]                           \n",
      " 12                  -1  3   4723712  ultralytics.nn.modules.block.C2f             [1024, 512, 3]                \n",
      " 13                  -1  1         0  torch.nn.modules.upsampling.Upsample         [None, 2, 'nearest']          \n",
      " 14             [-1, 4]  1         0  ultralytics.nn.modules.conv.Concat           [1]                           \n",
      " 15                  -1  3   1247744  ultralytics.nn.modules.block.C2f             [768, 256, 3]                 \n",
      " 16                  -1  1    590336  ultralytics.nn.modules.conv.Conv             [256, 256, 3, 2]              \n",
      " 17            [-1, 12]  1         0  ultralytics.nn.modules.conv.Concat           [1]                           \n",
      " 18                  -1  3   4592640  ultralytics.nn.modules.block.C2f             [768, 512, 3]                 \n",
      " 19                  -1  1   2360320  ultralytics.nn.modules.conv.Conv             [512, 512, 3, 2]              \n",
      " 20             [-1, 9]  1         0  ultralytics.nn.modules.conv.Concat           [1]                           \n",
      " 21                  -1  3   4723712  ultralytics.nn.modules.block.C2f             [1024, 512, 3]                \n",
      " 22        [15, 18, 21]  1   5583571  ultralytics.nn.modules.head.Detect           [1, [256, 512, 512]]          \n",
      "Model summary: 209 layers, 43,630,611 parameters, 43,630,595 gradients, 165.4 GFLOPs\n",
      "\n",
      "Transferred 589/595 items from pretrained weights\n",
      "Freezing layer 'model.22.dfl.conv.weight'\n",
      "\u001b[34m\u001b[1mAMP: \u001b[0mrunning Automatic Mixed Precision (AMP) checks...\n",
      "\u001b[34m\u001b[1mAMP: \u001b[0mchecks passed \n",
      "WARNING imgsz=[540] must be multiple of max stride 32, updating to [544]\n",
      "\u001b[34m\u001b[1mtrain: \u001b[0mFast image access  (ping: 0.10.0 ms, read: 44.322.5 MB/s, size: 163.2 KB)\n"
     ]
    },
    {
     "name": "stderr",
     "output_type": "stream",
     "text": [
      "\u001b[34m\u001b[1mtrain: \u001b[0mScanning D:\\test\\vehicles_dataset\\train\\labels... 18175 images, 0 backgrounds, 0 corrupt: 100%|██████████| 18175/18175 [00:17<00:00, 1026.85it/s]"
     ]
    },
    {
     "name": "stdout",
     "output_type": "stream",
     "text": [
      "\u001b[34m\u001b[1mtrain: \u001b[0mD:\\test\\vehicles_dataset\\train\\images\\000000099844.jpg: 2 duplicate labels removed\n"
     ]
    },
    {
     "name": "stderr",
     "output_type": "stream",
     "text": [
      "\n"
     ]
    },
    {
     "name": "stdout",
     "output_type": "stream",
     "text": [
      "\u001b[34m\u001b[1mtrain: \u001b[0mNew cache created: D:\\test\\vehicles_dataset\\train\\labels.cache\n",
      "\u001b[34m\u001b[1mval: \u001b[0mFast image access  (ping: 0.10.0 ms, read: 17.27.4 MB/s, size: 139.7 KB)\n"
     ]
    },
    {
     "name": "stderr",
     "output_type": "stream",
     "text": [
      "\u001b[34m\u001b[1mval: \u001b[0mScanning D:\\test\\vehicles_dataset\\val\\labels... 796 images, 0 backgrounds, 0 corrupt: 100%|██████████| 796/796 [00:01<00:00, 752.16it/s]\n"
     ]
    },
    {
     "name": "stdout",
     "output_type": "stream",
     "text": [
      "\u001b[34m\u001b[1mval: \u001b[0mNew cache created: D:\\test\\vehicles_dataset\\val\\labels.cache\n",
      "Plotting labels to runs\\detect\\vehicles_detection\\labels.jpg... \n",
      "\u001b[34m\u001b[1moptimizer:\u001b[0m 'optimizer=auto' found, ignoring 'lr0=0.01' and 'momentum=0.937' and determining best 'optimizer', 'lr0' and 'momentum' automatically... \n",
      "\u001b[34m\u001b[1moptimizer:\u001b[0m AdamW(lr=0.002, momentum=0.9) with parameter groups 97 weight(decay=0.0), 104 weight(decay=0.0005), 103 bias(decay=0.0)\n",
      "Image sizes 544 train, 544 val\n",
      "Using 8 dataloader workers\n",
      "Logging results to \u001b[1mruns\\detect\\vehicles_detection\u001b[0m\n",
      "Starting training for 30 epochs...\n",
      "\n",
      "      Epoch    GPU_mem   box_loss   cls_loss   dfl_loss  Instances       Size\n"
     ]
    },
    {
     "name": "stderr",
     "output_type": "stream",
     "text": [
      "       1/30      7.88G      1.388      1.407      1.401         88        544: 100%|██████████| 1136/1136 [09:13<00:00,  2.05it/s]\n",
      "                 Class     Images  Instances      Box(P          R      mAP50  mAP50-95): 100%|██████████| 25/25 [00:18<00:00,  1.32it/s]"
     ]
    },
    {
     "name": "stdout",
     "output_type": "stream",
     "text": [
      "                   all        796       3003      0.481      0.419      0.396      0.224\n"
     ]
    },
    {
     "name": "stderr",
     "output_type": "stream",
     "text": [
      "\n"
     ]
    },
    {
     "name": "stdout",
     "output_type": "stream",
     "text": [
      "\n",
      "      Epoch    GPU_mem   box_loss   cls_loss   dfl_loss  Instances       Size\n"
     ]
    },
    {
     "name": "stderr",
     "output_type": "stream",
     "text": [
      "       2/30      7.93G      1.459      1.452      1.461         96        544: 100%|██████████| 1136/1136 [08:33<00:00,  2.21it/s]\n",
      "                 Class     Images  Instances      Box(P          R      mAP50  mAP50-95): 100%|██████████| 25/25 [00:05<00:00,  4.47it/s]"
     ]
    },
    {
     "name": "stdout",
     "output_type": "stream",
     "text": [
      "                   all        796       3003      0.673      0.454      0.521      0.318\n"
     ]
    },
    {
     "name": "stderr",
     "output_type": "stream",
     "text": [
      "\n"
     ]
    },
    {
     "name": "stdout",
     "output_type": "stream",
     "text": [
      "\n",
      "      Epoch    GPU_mem   box_loss   cls_loss   dfl_loss  Instances       Size\n"
     ]
    },
    {
     "name": "stderr",
     "output_type": "stream",
     "text": [
      "       3/30      9.01G      1.385      1.334      1.409         92        544: 100%|██████████| 1136/1136 [08:29<00:00,  2.23it/s]\n",
      "                 Class     Images  Instances      Box(P          R      mAP50  mAP50-95): 100%|██████████| 25/25 [00:05<00:00,  4.46it/s]"
     ]
    },
    {
     "name": "stdout",
     "output_type": "stream",
     "text": [
      "                   all        796       3003      0.726      0.475      0.566      0.346\n"
     ]
    },
    {
     "name": "stderr",
     "output_type": "stream",
     "text": [
      "\n"
     ]
    },
    {
     "name": "stdout",
     "output_type": "stream",
     "text": [
      "\n",
      "      Epoch    GPU_mem   box_loss   cls_loss   dfl_loss  Instances       Size\n"
     ]
    },
    {
     "name": "stderr",
     "output_type": "stream",
     "text": [
      "       4/30      7.77G       1.31      1.229      1.364        114        544: 100%|██████████| 1136/1136 [08:27<00:00,  2.24it/s]\n",
      "                 Class     Images  Instances      Box(P          R      mAP50  mAP50-95): 100%|██████████| 25/25 [00:05<00:00,  4.51it/s]"
     ]
    },
    {
     "name": "stdout",
     "output_type": "stream",
     "text": [
      "                   all        796       3003      0.708      0.507      0.581      0.366\n"
     ]
    },
    {
     "name": "stderr",
     "output_type": "stream",
     "text": [
      "\n"
     ]
    },
    {
     "name": "stdout",
     "output_type": "stream",
     "text": [
      "\n",
      "      Epoch    GPU_mem   box_loss   cls_loss   dfl_loss  Instances       Size\n"
     ]
    },
    {
     "name": "stderr",
     "output_type": "stream",
     "text": [
      "       5/30      7.78G      1.256      1.149       1.33        130        544: 100%|██████████| 1136/1136 [08:29<00:00,  2.23it/s]\n",
      "                 Class     Images  Instances      Box(P          R      mAP50  mAP50-95): 100%|██████████| 25/25 [00:06<00:00,  3.60it/s]"
     ]
    },
    {
     "name": "stdout",
     "output_type": "stream",
     "text": [
      "                   all        796       3003      0.728      0.549      0.622        0.4\n"
     ]
    },
    {
     "name": "stderr",
     "output_type": "stream",
     "text": [
      "\n"
     ]
    },
    {
     "name": "stdout",
     "output_type": "stream",
     "text": [
      "\n",
      "      Epoch    GPU_mem   box_loss   cls_loss   dfl_loss  Instances       Size\n"
     ]
    },
    {
     "name": "stderr",
     "output_type": "stream",
     "text": [
      "       6/30      8.86G      1.226      1.105      1.309         72        544: 100%|██████████| 1136/1136 [08:30<00:00,  2.23it/s]\n",
      "                 Class     Images  Instances      Box(P          R      mAP50  mAP50-95): 100%|██████████| 25/25 [00:05<00:00,  4.46it/s]"
     ]
    },
    {
     "name": "stdout",
     "output_type": "stream",
     "text": [
      "                   all        796       3003      0.757      0.548       0.64      0.416\n"
     ]
    },
    {
     "name": "stderr",
     "output_type": "stream",
     "text": [
      "\n"
     ]
    },
    {
     "name": "stdout",
     "output_type": "stream",
     "text": [
      "\n",
      "      Epoch    GPU_mem   box_loss   cls_loss   dfl_loss  Instances       Size\n"
     ]
    },
    {
     "name": "stderr",
     "output_type": "stream",
     "text": [
      "       7/30      7.96G      1.192      1.054      1.288         81        544: 100%|██████████| 1136/1136 [08:29<00:00,  2.23it/s]\n",
      "                 Class     Images  Instances      Box(P          R      mAP50  mAP50-95): 100%|██████████| 25/25 [00:05<00:00,  4.46it/s]"
     ]
    },
    {
     "name": "stdout",
     "output_type": "stream",
     "text": [
      "                   all        796       3003      0.768      0.562      0.656      0.435\n"
     ]
    },
    {
     "name": "stderr",
     "output_type": "stream",
     "text": [
      "\n"
     ]
    },
    {
     "name": "stdout",
     "output_type": "stream",
     "text": [
      "\n",
      "      Epoch    GPU_mem   box_loss   cls_loss   dfl_loss  Instances       Size\n"
     ]
    },
    {
     "name": "stderr",
     "output_type": "stream",
     "text": [
      "       8/30      7.72G      1.159      1.015      1.266         78        544: 100%|██████████| 1136/1136 [08:28<00:00,  2.23it/s]\n",
      "                 Class     Images  Instances      Box(P          R      mAP50  mAP50-95): 100%|██████████| 25/25 [00:05<00:00,  4.47it/s]"
     ]
    },
    {
     "name": "stdout",
     "output_type": "stream",
     "text": [
      "                   all        796       3003       0.74      0.598      0.668      0.441\n"
     ]
    },
    {
     "name": "stderr",
     "output_type": "stream",
     "text": [
      "\n"
     ]
    },
    {
     "name": "stdout",
     "output_type": "stream",
     "text": [
      "\n",
      "      Epoch    GPU_mem   box_loss   cls_loss   dfl_loss  Instances       Size\n"
     ]
    },
    {
     "name": "stderr",
     "output_type": "stream",
     "text": [
      "       9/30      8.79G      1.143      0.983      1.254        101        544: 100%|██████████| 1136/1136 [08:29<00:00,  2.23it/s]\n",
      "                 Class     Images  Instances      Box(P          R      mAP50  mAP50-95): 100%|██████████| 25/25 [00:05<00:00,  4.48it/s]"
     ]
    },
    {
     "name": "stdout",
     "output_type": "stream",
     "text": [
      "                   all        796       3003      0.762      0.586      0.674      0.448\n"
     ]
    },
    {
     "name": "stderr",
     "output_type": "stream",
     "text": [
      "\n"
     ]
    },
    {
     "name": "stdout",
     "output_type": "stream",
     "text": [
      "\n",
      "      Epoch    GPU_mem   box_loss   cls_loss   dfl_loss  Instances       Size\n"
     ]
    },
    {
     "name": "stderr",
     "output_type": "stream",
     "text": [
      "      10/30      7.71G      1.125     0.9644      1.248         82        544: 100%|██████████| 1136/1136 [08:27<00:00,  2.24it/s]\n",
      "                 Class     Images  Instances      Box(P          R      mAP50  mAP50-95): 100%|██████████| 25/25 [00:05<00:00,  4.49it/s]"
     ]
    },
    {
     "name": "stdout",
     "output_type": "stream",
     "text": [
      "                   all        796       3003      0.786      0.592      0.681       0.46\n"
     ]
    },
    {
     "name": "stderr",
     "output_type": "stream",
     "text": [
      "\n"
     ]
    },
    {
     "name": "stdout",
     "output_type": "stream",
     "text": [
      "\n",
      "      Epoch    GPU_mem   box_loss   cls_loss   dfl_loss  Instances       Size\n"
     ]
    },
    {
     "name": "stderr",
     "output_type": "stream",
     "text": [
      "      11/30      8.78G      1.118     0.9455      1.238        114        544: 100%|██████████| 1136/1136 [08:27<00:00,  2.24it/s]\n",
      "                 Class     Images  Instances      Box(P          R      mAP50  mAP50-95): 100%|██████████| 25/25 [00:05<00:00,  4.51it/s]"
     ]
    },
    {
     "name": "stdout",
     "output_type": "stream",
     "text": [
      "                   all        796       3003      0.793        0.6      0.696      0.466\n"
     ]
    },
    {
     "name": "stderr",
     "output_type": "stream",
     "text": [
      "\n"
     ]
    },
    {
     "name": "stdout",
     "output_type": "stream",
     "text": [
      "\n",
      "      Epoch    GPU_mem   box_loss   cls_loss   dfl_loss  Instances       Size\n"
     ]
    },
    {
     "name": "stderr",
     "output_type": "stream",
     "text": [
      "      12/30       7.7G        1.1     0.9133      1.222         83        544: 100%|██████████| 1136/1136 [08:27<00:00,  2.24it/s]\n",
      "                 Class     Images  Instances      Box(P          R      mAP50  mAP50-95): 100%|██████████| 25/25 [00:05<00:00,  4.53it/s]"
     ]
    },
    {
     "name": "stdout",
     "output_type": "stream",
     "text": [
      "                   all        796       3003      0.803      0.601        0.7      0.476\n"
     ]
    },
    {
     "name": "stderr",
     "output_type": "stream",
     "text": [
      "\n"
     ]
    },
    {
     "name": "stdout",
     "output_type": "stream",
     "text": [
      "\n",
      "      Epoch    GPU_mem   box_loss   cls_loss   dfl_loss  Instances       Size\n"
     ]
    },
    {
     "name": "stderr",
     "output_type": "stream",
     "text": [
      "      13/30      8.77G      1.082     0.8972      1.217         56        544: 100%|██████████| 1136/1136 [08:28<00:00,  2.23it/s]\n",
      "                 Class     Images  Instances      Box(P          R      mAP50  mAP50-95): 100%|██████████| 25/25 [00:05<00:00,  4.53it/s]"
     ]
    },
    {
     "name": "stdout",
     "output_type": "stream",
     "text": [
      "                   all        796       3003      0.768      0.624      0.703       0.48\n"
     ]
    },
    {
     "name": "stderr",
     "output_type": "stream",
     "text": [
      "\n"
     ]
    },
    {
     "name": "stdout",
     "output_type": "stream",
     "text": [
      "\n",
      "      Epoch    GPU_mem   box_loss   cls_loss   dfl_loss  Instances       Size\n"
     ]
    },
    {
     "name": "stderr",
     "output_type": "stream",
     "text": [
      "      14/30       7.8G      1.072     0.8776      1.207        125        544: 100%|██████████| 1136/1136 [08:27<00:00,  2.24it/s]\n",
      "                 Class     Images  Instances      Box(P          R      mAP50  mAP50-95): 100%|██████████| 25/25 [00:05<00:00,  4.52it/s]"
     ]
    },
    {
     "name": "stdout",
     "output_type": "stream",
     "text": [
      "                   all        796       3003      0.796      0.616      0.713      0.486\n"
     ]
    },
    {
     "name": "stderr",
     "output_type": "stream",
     "text": [
      "\n"
     ]
    },
    {
     "name": "stdout",
     "output_type": "stream",
     "text": [
      "\n",
      "      Epoch    GPU_mem   box_loss   cls_loss   dfl_loss  Instances       Size\n"
     ]
    },
    {
     "name": "stderr",
     "output_type": "stream",
     "text": [
      "      15/30      7.84G      1.058     0.8626      1.197        107        544: 100%|██████████| 1136/1136 [08:29<00:00,  2.23it/s]\n",
      "                 Class     Images  Instances      Box(P          R      mAP50  mAP50-95): 100%|██████████| 25/25 [00:05<00:00,  4.47it/s]"
     ]
    },
    {
     "name": "stdout",
     "output_type": "stream",
     "text": [
      "                   all        796       3003      0.795      0.624      0.725      0.499\n"
     ]
    },
    {
     "name": "stderr",
     "output_type": "stream",
     "text": [
      "\n"
     ]
    },
    {
     "name": "stdout",
     "output_type": "stream",
     "text": [
      "\n",
      "      Epoch    GPU_mem   box_loss   cls_loss   dfl_loss  Instances       Size\n"
     ]
    },
    {
     "name": "stderr",
     "output_type": "stream",
     "text": [
      "      16/30      8.92G       1.04       0.84      1.186         98        544: 100%|██████████| 1136/1136 [08:29<00:00,  2.23it/s]\n",
      "                 Class     Images  Instances      Box(P          R      mAP50  mAP50-95): 100%|██████████| 25/25 [00:05<00:00,  4.49it/s]"
     ]
    },
    {
     "name": "stdout",
     "output_type": "stream",
     "text": [
      "                   all        796       3003      0.784      0.643      0.727        0.5\n"
     ]
    },
    {
     "name": "stderr",
     "output_type": "stream",
     "text": [
      "\n"
     ]
    },
    {
     "name": "stdout",
     "output_type": "stream",
     "text": [
      "\n",
      "      Epoch    GPU_mem   box_loss   cls_loss   dfl_loss  Instances       Size\n"
     ]
    },
    {
     "name": "stderr",
     "output_type": "stream",
     "text": [
      "      17/30      7.72G      1.031     0.8222       1.18         97        544: 100%|██████████| 1136/1136 [08:28<00:00,  2.24it/s]\n",
      "                 Class     Images  Instances      Box(P          R      mAP50  mAP50-95): 100%|██████████| 25/25 [00:05<00:00,  4.52it/s]"
     ]
    },
    {
     "name": "stdout",
     "output_type": "stream",
     "text": [
      "                   all        796       3003      0.778      0.647      0.728        0.5\n"
     ]
    },
    {
     "name": "stderr",
     "output_type": "stream",
     "text": [
      "\n"
     ]
    },
    {
     "name": "stdout",
     "output_type": "stream",
     "text": [
      "\n",
      "      Epoch    GPU_mem   box_loss   cls_loss   dfl_loss  Instances       Size\n"
     ]
    },
    {
     "name": "stderr",
     "output_type": "stream",
     "text": [
      "      18/30      8.78G      1.022     0.8093      1.175         96        544: 100%|██████████| 1136/1136 [08:29<00:00,  2.23it/s]\n",
      "                 Class     Images  Instances      Box(P          R      mAP50  mAP50-95): 100%|██████████| 25/25 [00:05<00:00,  4.45it/s]"
     ]
    },
    {
     "name": "stdout",
     "output_type": "stream",
     "text": [
      "                   all        796       3003      0.802      0.641      0.737      0.509\n"
     ]
    },
    {
     "name": "stderr",
     "output_type": "stream",
     "text": [
      "\n"
     ]
    },
    {
     "name": "stdout",
     "output_type": "stream",
     "text": [
      "\n",
      "      Epoch    GPU_mem   box_loss   cls_loss   dfl_loss  Instances       Size\n"
     ]
    },
    {
     "name": "stderr",
     "output_type": "stream",
     "text": [
      "      19/30       7.7G      1.011     0.7956       1.17        145        544: 100%|██████████| 1136/1136 [08:28<00:00,  2.24it/s]\n",
      "                 Class     Images  Instances      Box(P          R      mAP50  mAP50-95): 100%|██████████| 25/25 [00:05<00:00,  4.49it/s]"
     ]
    },
    {
     "name": "stdout",
     "output_type": "stream",
     "text": [
      "                   all        796       3003      0.811      0.641      0.741      0.515\n"
     ]
    },
    {
     "name": "stderr",
     "output_type": "stream",
     "text": [
      "\n"
     ]
    },
    {
     "name": "stdout",
     "output_type": "stream",
     "text": [
      "\n",
      "      Epoch    GPU_mem   box_loss   cls_loss   dfl_loss  Instances       Size\n"
     ]
    },
    {
     "name": "stderr",
     "output_type": "stream",
     "text": [
      "      20/30      8.78G     0.9997      0.781      1.161         96        544: 100%|██████████| 1136/1136 [08:29<00:00,  2.23it/s]\n",
      "                 Class     Images  Instances      Box(P          R      mAP50  mAP50-95): 100%|██████████| 25/25 [00:05<00:00,  4.47it/s]"
     ]
    },
    {
     "name": "stdout",
     "output_type": "stream",
     "text": [
      "                   all        796       3003      0.819      0.638      0.744      0.518\n"
     ]
    },
    {
     "name": "stderr",
     "output_type": "stream",
     "text": [
      "\n"
     ]
    },
    {
     "name": "stdout",
     "output_type": "stream",
     "text": [
      "Closing dataloader mosaic\n",
      "\n",
      "      Epoch    GPU_mem   box_loss   cls_loss   dfl_loss  Instances       Size\n"
     ]
    },
    {
     "name": "stderr",
     "output_type": "stream",
     "text": [
      "      21/30       7.7G      1.005     0.7497      1.147         37        544: 100%|██████████| 1136/1136 [08:27<00:00,  2.24it/s]\n",
      "                 Class     Images  Instances      Box(P          R      mAP50  mAP50-95): 100%|██████████| 25/25 [00:05<00:00,  4.50it/s]"
     ]
    },
    {
     "name": "stdout",
     "output_type": "stream",
     "text": [
      "                   all        796       3003      0.815      0.647      0.748      0.517\n"
     ]
    },
    {
     "name": "stderr",
     "output_type": "stream",
     "text": [
      "\n"
     ]
    },
    {
     "name": "stdout",
     "output_type": "stream",
     "text": [
      "\n",
      "      Epoch    GPU_mem   box_loss   cls_loss   dfl_loss  Instances       Size\n"
     ]
    },
    {
     "name": "stderr",
     "output_type": "stream",
     "text": [
      "      22/30      8.78G     0.9913     0.7326      1.135         53        544: 100%|██████████| 1136/1136 [08:29<00:00,  2.23it/s]\n",
      "                 Class     Images  Instances      Box(P          R      mAP50  mAP50-95): 100%|██████████| 25/25 [00:05<00:00,  4.45it/s]"
     ]
    },
    {
     "name": "stdout",
     "output_type": "stream",
     "text": [
      "                   all        796       3003      0.826      0.645      0.747      0.521\n"
     ]
    },
    {
     "name": "stderr",
     "output_type": "stream",
     "text": [
      "\n"
     ]
    },
    {
     "name": "stdout",
     "output_type": "stream",
     "text": [
      "\n",
      "      Epoch    GPU_mem   box_loss   cls_loss   dfl_loss  Instances       Size\n"
     ]
    },
    {
     "name": "stderr",
     "output_type": "stream",
     "text": [
      "      23/30      7.71G     0.9853      0.721      1.133         56        544: 100%|██████████| 1136/1136 [08:28<00:00,  2.23it/s]\n",
      "                 Class     Images  Instances      Box(P          R      mAP50  mAP50-95): 100%|██████████| 25/25 [00:05<00:00,  4.46it/s]"
     ]
    },
    {
     "name": "stdout",
     "output_type": "stream",
     "text": [
      "                   all        796       3003      0.818      0.649      0.749      0.524\n"
     ]
    },
    {
     "name": "stderr",
     "output_type": "stream",
     "text": [
      "\n"
     ]
    },
    {
     "name": "stdout",
     "output_type": "stream",
     "text": [
      "\n",
      "      Epoch    GPU_mem   box_loss   cls_loss   dfl_loss  Instances       Size\n"
     ]
    },
    {
     "name": "stderr",
     "output_type": "stream",
     "text": [
      "      24/30      8.78G     0.9653     0.6935       1.12         75        544: 100%|██████████| 1136/1136 [08:29<00:00,  2.23it/s]\n",
      "                 Class     Images  Instances      Box(P          R      mAP50  mAP50-95): 100%|██████████| 25/25 [00:05<00:00,  4.50it/s]"
     ]
    },
    {
     "name": "stdout",
     "output_type": "stream",
     "text": [
      "                   all        796       3003      0.802      0.661      0.753      0.527\n"
     ]
    },
    {
     "name": "stderr",
     "output_type": "stream",
     "text": [
      "\n"
     ]
    },
    {
     "name": "stdout",
     "output_type": "stream",
     "text": [
      "\n",
      "      Epoch    GPU_mem   box_loss   cls_loss   dfl_loss  Instances       Size\n"
     ]
    },
    {
     "name": "stderr",
     "output_type": "stream",
     "text": [
      "      25/30      7.71G     0.9546      0.674      1.111         63        544: 100%|██████████| 1136/1136 [08:29<00:00,  2.23it/s]\n",
      "                 Class     Images  Instances      Box(P          R      mAP50  mAP50-95): 100%|██████████| 25/25 [00:05<00:00,  4.51it/s]"
     ]
    },
    {
     "name": "stdout",
     "output_type": "stream",
     "text": [
      "                   all        796       3003      0.815      0.657      0.757      0.532\n"
     ]
    },
    {
     "name": "stderr",
     "output_type": "stream",
     "text": [
      "\n"
     ]
    },
    {
     "name": "stdout",
     "output_type": "stream",
     "text": [
      "\n",
      "      Epoch    GPU_mem   box_loss   cls_loss   dfl_loss  Instances       Size\n"
     ]
    },
    {
     "name": "stderr",
     "output_type": "stream",
     "text": [
      "      26/30      8.79G     0.9451     0.6589      1.104         90        544: 100%|██████████| 1136/1136 [08:29<00:00,  2.23it/s]\n",
      "                 Class     Images  Instances      Box(P          R      mAP50  mAP50-95): 100%|██████████| 25/25 [00:05<00:00,  4.48it/s]"
     ]
    },
    {
     "name": "stdout",
     "output_type": "stream",
     "text": [
      "                   all        796       3003      0.797      0.665      0.755       0.53\n"
     ]
    },
    {
     "name": "stderr",
     "output_type": "stream",
     "text": [
      "\n"
     ]
    },
    {
     "name": "stdout",
     "output_type": "stream",
     "text": [
      "\n",
      "      Epoch    GPU_mem   box_loss   cls_loss   dfl_loss  Instances       Size\n"
     ]
    },
    {
     "name": "stderr",
     "output_type": "stream",
     "text": [
      "      27/30      7.71G     0.9266     0.6392      1.096         33        544: 100%|██████████| 1136/1136 [08:28<00:00,  2.23it/s]\n",
      "                 Class     Images  Instances      Box(P          R      mAP50  mAP50-95): 100%|██████████| 25/25 [00:05<00:00,  4.51it/s]"
     ]
    },
    {
     "name": "stdout",
     "output_type": "stream",
     "text": [
      "                   all        796       3003       0.81      0.664      0.757      0.533\n"
     ]
    },
    {
     "name": "stderr",
     "output_type": "stream",
     "text": [
      "\n"
     ]
    },
    {
     "name": "stdout",
     "output_type": "stream",
     "text": [
      "\n",
      "      Epoch    GPU_mem   box_loss   cls_loss   dfl_loss  Instances       Size\n"
     ]
    },
    {
     "name": "stderr",
     "output_type": "stream",
     "text": [
      "      28/30      8.79G     0.9194     0.6267       1.09         70        544: 100%|██████████| 1136/1136 [08:29<00:00,  2.23it/s]\n",
      "                 Class     Images  Instances      Box(P          R      mAP50  mAP50-95): 100%|██████████| 25/25 [00:05<00:00,  4.46it/s]"
     ]
    },
    {
     "name": "stdout",
     "output_type": "stream",
     "text": [
      "                   all        796       3003      0.807      0.672      0.761      0.536\n"
     ]
    },
    {
     "name": "stderr",
     "output_type": "stream",
     "text": [
      "\n"
     ]
    },
    {
     "name": "stdout",
     "output_type": "stream",
     "text": [
      "\n",
      "      Epoch    GPU_mem   box_loss   cls_loss   dfl_loss  Instances       Size\n"
     ]
    },
    {
     "name": "stderr",
     "output_type": "stream",
     "text": [
      "      29/30      7.71G     0.9028     0.6083       1.08         22        544: 100%|██████████| 1136/1136 [08:29<00:00,  2.23it/s]\n",
      "                 Class     Images  Instances      Box(P          R      mAP50  mAP50-95): 100%|██████████| 25/25 [00:05<00:00,  4.50it/s]"
     ]
    },
    {
     "name": "stdout",
     "output_type": "stream",
     "text": [
      "                   all        796       3003      0.818      0.661      0.759      0.536\n"
     ]
    },
    {
     "name": "stderr",
     "output_type": "stream",
     "text": [
      "\n"
     ]
    },
    {
     "name": "stdout",
     "output_type": "stream",
     "text": [
      "\n",
      "      Epoch    GPU_mem   box_loss   cls_loss   dfl_loss  Instances       Size\n"
     ]
    },
    {
     "name": "stderr",
     "output_type": "stream",
     "text": [
      "      30/30      8.78G      0.894     0.5935      1.076         80        544: 100%|██████████| 1136/1136 [08:30<00:00,  2.23it/s]\n",
      "                 Class     Images  Instances      Box(P          R      mAP50  mAP50-95): 100%|██████████| 25/25 [00:05<00:00,  4.49it/s]"
     ]
    },
    {
     "name": "stdout",
     "output_type": "stream",
     "text": [
      "                   all        796       3003      0.826      0.657      0.762      0.538\n"
     ]
    },
    {
     "name": "stderr",
     "output_type": "stream",
     "text": [
      "\n"
     ]
    },
    {
     "name": "stdout",
     "output_type": "stream",
     "text": [
      "\n",
      "30 epochs completed in 4.344 hours.\n",
      "Optimizer stripped from runs\\detect\\vehicles_detection\\weights\\last.pt, 87.6MB\n",
      "Optimizer stripped from runs\\detect\\vehicles_detection\\weights\\best.pt, 87.6MB\n",
      "\n",
      "Validating runs\\detect\\vehicles_detection\\weights\\best.pt...\n",
      "Ultralytics 8.3.152  Python-3.10.0 torch-2.7.1+cu118 CUDA:0 (NVIDIA GeForce RTX 5070 Ti, 16303MiB)\n",
      "Model summary (fused): 112 layers, 43,607,379 parameters, 0 gradients, 164.8 GFLOPs\n"
     ]
    },
    {
     "name": "stderr",
     "output_type": "stream",
     "text": [
      "                 Class     Images  Instances      Box(P          R      mAP50  mAP50-95): 100%|██████████| 25/25 [00:05<00:00,  4.45it/s]\n"
     ]
    },
    {
     "name": "stdout",
     "output_type": "stream",
     "text": [
      "                   all        796       3003      0.824      0.658      0.763      0.538\n",
      "Speed: 0.1ms preprocess, 4.1ms inference, 0.0ms loss, 1.0ms postprocess per image\n",
      "Results saved to \u001b[1mruns\\detect\\vehicles_detection\u001b[0m\n"
     ]
    }
   ],
   "source": [
    "from ultralytics import YOLO\n",
    "import os\n",
    "\n",
    "\n",
    "DATA_YAML = r\"D:\\test\\vehicles_dataset\\data.yaml\"\n",
    "MODEL_TYPE = \"yolov8l.pt\" \n",
    "EPOCHS = 30\n",
    "IMGSZ = 540\n",
    "BATCH = 16  \n",
    "DEVICE = \"cuda\"  \n",
    "\n",
    "model = YOLO(MODEL_TYPE)\n",
    "results = model.train(\n",
    "    data=DATA_YAML,\n",
    "    epochs=EPOCHS,\n",
    "    imgsz=IMGSZ,\n",
    "    batch=BATCH,\n",
    "    device=DEVICE,\n",
    "    name=\"vehicles_detection\",\n",
    "    exist_ok=True\n",
    ")\n"
   ]
  },
  {
   "cell_type": "code",
   "execution_count": null,
   "id": "68d6a0e1",
   "metadata": {},
   "outputs": [
    {
     "name": "stdout",
     "output_type": "stream",
     "text": [
      "Ultralytics 8.3.152  Python-3.10.0 torch-2.7.1+cu118 CUDA:0 (NVIDIA GeForce RTX 5070 Ti, 16303MiB)\n",
      "Model summary (fused): 112 layers, 43,607,379 parameters, 0 gradients, 164.8 GFLOPs\n",
      "\u001b[34m\u001b[1mval: \u001b[0mFast image access  (ping: 0.00.0 ms, read: 1909.8452.4 MB/s, size: 153.4 KB)\n"
     ]
    },
    {
     "name": "stderr",
     "output_type": "stream",
     "text": [
      "\u001b[34m\u001b[1mval: \u001b[0mScanning D:\\test\\vehicles_dataset\\val\\labels.cache... 796 images, 0 backgrounds, 0 corrupt: 100%|██████████| 796/796 [00:00<?, ?it/s]\n",
      "                 Class     Images  Instances      Box(P          R      mAP50  mAP50-95): 100%|██████████| 50/50 [00:07<00:00,  6.85it/s]\n"
     ]
    },
    {
     "name": "stdout",
     "output_type": "stream",
     "text": [
      "                   all        796       3003      0.822      0.675      0.776      0.549\n",
      "Speed: 0.1ms preprocess, 6.4ms inference, 0.0ms loss, 0.7ms postprocess per image\n",
      "Results saved to \u001b[1mruns\\detect\\vehicles_validation\u001b[0m\n",
      "\n",
      "=== Результаты валидации ===\n",
      "mAP@0.5: 0.7763\n",
      "mAP@0.5:0.95: 0.5490\n"
     ]
    }
   ],
   "source": [
    "\n",
    "from ultralytics import YOLO\n",
    "import os\n",
    "\n",
    "BEST_MODEL_PATH = os.path.join(\"runs\", \"detect\", \"vehicles_detection\", \"weights\", \"best.pt\")\n",
    "\n",
    "model = YOLO(BEST_MODEL_PATH)\n",
    "DATA_YAML = r\"D:\\test\\vehicles_dataset\\data.yaml\"\n",
    "\n",
    "VAL_BATCH = 16\n",
    "VAL_IMGSZ = 640\n",
    "\n",
    "\n",
    "metrics = model.val(\n",
    "    data=DATA_YAML,\n",
    "    batch=VAL_BATCH,\n",
    "    imgsz=VAL_IMGSZ,\n",
    "    device=DEVICE,\n",
    "    split=\"val\", \n",
    "    name=\"vehicles_validation\",\n",
    "    exist_ok=True\n",
    ")\n",
    "\n",
    "\n",
    "print(\"\\n=== Результаты валидации ===\")\n",
    "print(f\"mAP@0.5: {metrics.box.map50:.4f}\")\n",
    "print(f\"mAP@0.5:0.95: {metrics.box.map:.4f}\")\n",
    "\n"
   ]
  },
  {
   "cell_type": "code",
   "execution_count": null,
   "id": "a7d0de0c",
   "metadata": {},
   "outputs": [],
   "source": [
    "import cv2\n",
    "import time\n",
    "import numpy as np\n",
    "from collections import defaultdict, deque\n",
    "from ultralytics import YOLO\n",
    "\n",
    "class BarrierFSM:\n",
    "    def __init__(self):\n",
    "        self.STATE_IDLE = \"IDLE\"\n",
    "        self.STATE_OPENING = \"OPENING\"\n",
    "        self.STATE_OPEN = \"OPEN\"\n",
    "        self.STATE_CLOSING = \"CLOSING\"\n",
    "        self.state = self.STATE_IDLE\n",
    "        self.target_id = None\n",
    "        self.downward_time = defaultdict(float)\n",
    "        self.disappear_time = 0\n",
    "        self.last_activity_time = time.time()\n",
    "\n",
    "        # Параметры\n",
    "        self.OPEN_THRESH = 1    # секунд спуска\n",
    "        self.CLOSE_DELAY = 5     # сек\n",
    "        self.INACTIVITY_TIMEOUT = 120  # сек\n",
    "        self.OPEN_CLOSE_DUR = 1   # сек\n",
    "        self.MIN_ANGLE = 30       # град\n",
    "\n",
    "    def update(self, current_time, tracked_objects, dt):\n",
    "        # обновление активности\n",
    "        if tracked_objects:\n",
    "            self.last_activity_time = current_time\n",
    "\n",
    "        # таймаут бездействия\n",
    "        if current_time - self.last_activity_time >= self.INACTIVITY_TIMEOUT:\n",
    "            if self.state not in [self.STATE_IDLE, self.STATE_CLOSING]:\n",
    "                self.state = self.STATE_CLOSING\n",
    "                self.trigger_time = current_time\n",
    "                print(f\"[{current_time:.2f}] Принудительное закрытие по таймауту бездействия\")\n",
    "\n",
    "        if self.state == self.STATE_IDLE:\n",
    "            for obj_id, _, movement_y, angle in tracked_objects:\n",
    "                if movement_y > 0 and abs(angle) >= self.MIN_ANGLE:\n",
    "                    self.downward_time[obj_id] += dt\n",
    "                    if self.downward_time[obj_id] >= self.OPEN_THRESH:\n",
    "                        self.state = self.STATE_OPENING\n",
    "                        self.target_id = obj_id\n",
    "                        self.trigger_time = current_time\n",
    "                        print(f\"[{current_time:.2f}] Открытие по длительному спуску объекта {obj_id}\")\n",
    "                else:\n",
    "                    self.downward_time[obj_id] = 0\n",
    "\n",
    "        elif self.state == self.STATE_OPENING:\n",
    "            if current_time - self.trigger_time >= self.OPEN_CLOSE_DUR:\n",
    "                self.state = self.STATE_OPEN\n",
    "                print(f\"[{current_time:.2f}] Шлагбаум открыт\")\n",
    "\n",
    "        elif self.state == self.STATE_OPEN:\n",
    "            target_found = any(obj_id == self.target_id for obj_id, *_ in tracked_objects)\n",
    "            if not target_found:\n",
    "                if self.disappear_time == 0:\n",
    "                    self.disappear_time = current_time\n",
    "                elif current_time - self.disappear_time >= self.CLOSE_DELAY:\n",
    "                    self.state = self.STATE_CLOSING\n",
    "                    self.trigger_time = current_time\n",
    "                    print(f\"[{current_time:.2f}] Открытие завершено, начинаем закрытие\")\n",
    "            else:\n",
    "                self.disappear_time = 0\n",
    "\n",
    "        elif self.state == self.STATE_CLOSING:\n",
    "            if current_time - self.trigger_time >= self.OPEN_CLOSE_DUR:\n",
    "                self.state = self.STATE_IDLE\n",
    "                self.target_id = None\n",
    "                self.downward_time.clear()\n",
    "                self.disappear_time = 0\n",
    "                print(f\"[{current_time:.2f}] Шлагбаум закрыт\")\n",
    "\n",
    "\n",
    "def calculate_movement_angle(track_history, track_id, current_point):\n",
    "    if track_id not in track_history or len(track_history[track_id]) < 2:\n",
    "        return 0\n",
    "    prev_point = track_history[track_id][-1]\n",
    "    dx = current_point[0] - prev_point[0]\n",
    "    dy = current_point[1] - prev_point[1]\n",
    "    if dx == 0:\n",
    "        return 90.0 if dy > 0 else -90.0\n",
    "    angle_rad = np.arctan2(dy, dx)\n",
    "    angle_deg = np.degrees(angle_rad)\n",
    "    vertical_angle = 90.0 - abs(angle_deg)\n",
    "    return vertical_angle if dy > 0 else -vertical_angle\n",
    "\n",
    "\n",
    "def process_video(video_path):\n",
    "    model = YOLO(\"runs/detect/vehicles_detection/weights/best.pt\")\n",
    "    barrier = BarrierFSM()\n",
    "    cap = cv2.VideoCapture(video_path)\n",
    "    track_history = defaultdict(lambda: deque(maxlen=30))\n",
    "    prev_time = time.time()\n",
    "\n",
    "    while cap.isOpened():\n",
    "        success, frame = cap.read()\n",
    "        if not success:\n",
    "            break\n",
    "        current_time = time.time()\n",
    "        dt = current_time - prev_time\n",
    "        prev_time = current_time\n",
    "        h = frame.shape[0]\n",
    "\n",
    "        results = model.track(frame, persist=True, classes=[0], conf=0.4, verbose=False)\n",
    "        tracked_objects = []\n",
    "        forced_open = False\n",
    "\n",
    "        if results[0].boxes.id is not None:\n",
    "            boxes = results[0].boxes.xyxy.cpu()\n",
    "            ids = results[0].boxes.id.int().cpu().tolist()\n",
    "            for box, tid in zip(boxes, ids):\n",
    "                x1, y1, x2, y2 = box\n",
    "                cx, cy = float((x1+x2)/2), float((y1+y2)/2)\n",
    "\n",
    "                # принудительное открытие по линии 1/3\n",
    "                if cy > h/3 and barrier.state == barrier.STATE_IDLE:\n",
    "                    barrier.state = barrier.STATE_OPENING\n",
    "                    barrier.trigger_time = current_time\n",
    "                    barrier.target_id = tid\n",
    "                    forced_open = True\n",
    "                    print(f\"[{current_time:.2f}] Принудительное открытие: объект {tid} ниже 1/3\")\n",
    "\n",
    "                prev_pt = track_history[tid][-1] if track_history[tid] else None\n",
    "                movement_y = cy - prev_pt[1] if prev_pt is not None else 0\n",
    "                track_history[tid].append((cx, cy))\n",
    "                angle = calculate_movement_angle(track_history, tid, (cx, cy))\n",
    "                tracked_objects.append((tid, cy, movement_y, angle))\n",
    "\n",
    "                # отрисовка\n",
    "                col = (0, 255, 0)\n",
    "                if tid == barrier.target_id:\n",
    "                    col = (0, 0, 255)\n",
    "                cv2.rectangle(frame, (int(x1), int(y1)), (int(x2), int(y2)), col, 2)\n",
    "                for i in range(1, len(track_history[tid])):\n",
    "                    p1 = track_history[tid][i-1]; p2 = track_history[tid][i]\n",
    "                    cv2.line(frame, (int(p1[0]), int(p1[1])), (int(p2[0]), int(p2[1])), col, 2)\n",
    "                cv2.putText(frame, f\"ID:{tid} A:{angle:.1f}\", (int(x1), int(y1)-10), cv2.FONT_HERSHEY_SIMPLEX, 0.5, col, 1)\n",
    "\n",
    "        if not forced_open:\n",
    "            barrier.update(current_time, tracked_objects, dt)\n",
    "\n",
    "        # отображение\n",
    "        state = barrier.state\n",
    "        status = \"OPEN\" if state in [barrier.STATE_OPENING, barrier.STATE_OPEN] else \"CLOSED\"\n",
    "        color = (0,255,0) if status==\"OPEN\" else (0,0,255)\n",
    "        cv2.putText(frame, f\"State: {state}\", (10,30), cv2.FONT_HERSHEY_SIMPLEX, 1, color, 2)\n",
    "        cv2.putText(frame, f\"Barrier: {status}\", (10,70), cv2.FONT_HERSHEY_SIMPLEX, 1, color, 2)\n",
    "        cv2.line(frame, (0, h//3), (frame.shape[1], h//3), (255,0,0), 2)\n",
    "\n",
    "        cv2.imshow(\"Barrier Control System\", frame)\n",
    "        if cv2.waitKey(1) & 0xFF == ord('q'):\n",
    "            break\n",
    "\n",
    "    cap.release()\n",
    "    cv2.destroyAllWindows()\n",
    "\n",
    "# Запуск\n",
    "process_video(r\"D:\\test\\cvtest.avi\")\n",
    "\n"
   ]
  }
 ],
 "metadata": {
  "kernelspec": {
   "display_name": "Python 3",
   "language": "python",
   "name": "python3"
  },
  "language_info": {
   "codemirror_mode": {
    "name": "ipython",
    "version": 3
   },
   "file_extension": ".py",
   "mimetype": "text/x-python",
   "name": "python",
   "nbconvert_exporter": "python",
   "pygments_lexer": "ipython3",
   "version": "3.10.0"
  }
 },
 "nbformat": 4,
 "nbformat_minor": 5
}
